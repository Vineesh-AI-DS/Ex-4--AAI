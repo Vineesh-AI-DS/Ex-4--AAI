{
  "cells": [
    {
      "cell_type": "code",
      "execution_count": 11,
      "id": "27e580fa",
      "metadata": {
        "id": "27e580fa"
      },
      "outputs": [],
      "source": [
        "import numpy as np"
      ]
    },
    {
      "cell_type": "code",
      "execution_count": 12,
      "id": "fcb6890e",
      "metadata": {
        "id": "fcb6890e"
      },
      "outputs": [],
      "source": [
        "transition_matrix = np.array([[0.7, 0.3],[0.4, 0.6]])\n",
        "emission_matrix = np.array([[0.1, 0.9],[0.8,0.2]])\n",
        "initial_prob = np.array([0.5, 0.5])\n",
        "obs_seq = np.array([1,1,1,0,0,1])"
      ]
    },
    {
      "cell_type": "code",
      "execution_count": 13,
      "id": "4b8aba9d",
      "metadata": {
        "id": "4b8aba9d"
      },
      "outputs": [],
      "source": [
        "alpha = np.zeros((len(obs_seq),len(initial_prob)))\n",
        "alpha[0, :] = initial_prob * emission_matrix[:, obs_seq[0]]"
      ]
    },
    {
      "cell_type": "code",
      "execution_count": 18,
      "id": "f6afe1dc",
      "metadata": {
        "id": "f6afe1dc"
      },
      "outputs": [],
      "source": [
        "for t in range(1, len(obs_seq)):\n",
        "    for j in range(len(initial_prob)):\n",
        "        alpha[t, j] = emission_matrix[j,\n",
        "        obs_seq[t]]*np.sum(alpha[t-1,:] *\n",
        "        transition_matrix[:, j])"
      ]
    },
    {
      "cell_type": "code",
      "execution_count": 19,
      "id": "753a2bfc",
      "metadata": {
        "colab": {
          "base_uri": "https://localhost:8080/"
        },
        "id": "753a2bfc",
        "outputId": "a6b3163e-f3f7-4759-c794-e265a1b0b120"
      },
      "outputs": [
        {
          "output_type": "stream",
          "name": "stdout",
          "text": [
            "The Probabality of Observed Sequence is: 0.018906881625\n"
          ]
        }
      ],
      "source": [
        "probability = np.sum(alpha[-1, :])\n",
        "print(\"The Probabality of Observed Sequence is:\", probability)"
      ]
    },
    {
      "cell_type": "code",
      "execution_count": 20,
      "id": "dc03134e",
      "metadata": {
        "id": "dc03134e"
      },
      "outputs": [],
      "source": [
        "most_likely = []\n",
        "for t in range(len(obs_seq)):\n",
        "    if alpha[t, 0] > alpha[t,1]:\n",
        "        most_likely.append(\"sunny\")\n",
        "    else:\n",
        "        most_likely.append(\"rainy\")"
      ]
    },
    {
      "cell_type": "code",
      "execution_count": 21,
      "id": "c63bfeb0",
      "metadata": {
        "colab": {
          "base_uri": "https://localhost:8080/"
        },
        "id": "c63bfeb0",
        "outputId": "82289524-7375-48f5-a5ad-255aad2c46af"
      },
      "outputs": [
        {
          "output_type": "stream",
          "name": "stdout",
          "text": [
            "The Most Likely Sequence of Weather States are: ['sunny', 'sunny', 'sunny', 'rainy', 'rainy', 'sunny']\n"
          ]
        }
      ],
      "source": [
        "print(\"The Most Likely Sequence of Weather States are:\", most_likely)"
      ]
    },
    {
      "cell_type": "code",
      "execution_count": null,
      "id": "34be9793",
      "metadata": {
        "id": "34be9793"
      },
      "outputs": [],
      "source": []
    }
  ],
  "metadata": {
    "kernelspec": {
      "display_name": "Python 3 (ipykernel)",
      "language": "python",
      "name": "python3"
    },
    "language_info": {
      "codemirror_mode": {
        "name": "ipython",
        "version": 3
      },
      "file_extension": ".py",
      "mimetype": "text/x-python",
      "name": "python",
      "nbconvert_exporter": "python",
      "pygments_lexer": "ipython3",
      "version": "3.9.13"
    },
    "colab": {
      "provenance": []
    }
  },
  "nbformat": 4,
  "nbformat_minor": 5
}